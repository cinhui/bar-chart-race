{
 "cells": [
  {
   "cell_type": "code",
   "execution_count": 20,
   "metadata": {},
   "outputs": [],
   "source": [
    "import requests\n",
    "from bs4 import BeautifulSoup\n",
    "import pandas as pd\n",
    "import numpy as np\n",
    "import itertools\n",
    "import re\n",
    "pd.set_option('display.max_columns', None)\n",
    "pd.set_option('display.max_rows', None)"
   ]
  },
  {
   "cell_type": "code",
   "execution_count": 21,
   "metadata": {},
   "outputs": [],
   "source": [
    "# dates = [\"2020-07-14\", \"2020-07-27\", \"2020-08-03\", \"2020-08-10\", \"2020-08-17\", \n",
    "#          \"2020-08-24\",\"2020-08-31\",\"2020-09-07\",\"2020-09-15\",\"2020-09-21\"]\n",
    "dates = [\"2020-09-28\"]"
   ]
  },
  {
   "cell_type": "code",
   "execution_count": null,
   "metadata": {},
   "outputs": [],
   "source": []
  },
  {
   "cell_type": "code",
   "execution_count": 23,
   "metadata": {},
   "outputs": [],
   "source": [
    "def get_rankings(ranking_date):\n",
    "    ranking_url = \"http://www.mma-stats.com/rankings/\" + ranking_date\n",
    "    url_request = requests.get(ranking_url).text\n",
    "    soup = BeautifulSoup(url_request, 'html.parser')\n",
    "    result_df = pd.DataFrame()\n",
    "    rankings = soup.find_all('div',{'class':'weight-rankings'})\n",
    "    for weightclass in rankings:\n",
    "        weightclass_name = weightclass.find('h3').text.strip()\n",
    "    #     print(weightclass_name)\n",
    "        fighters = weightclass.find_all('li',{'class':'fighter'})\n",
    "        for fighter in fighters:\n",
    "    #         print(fighter)\n",
    "            rank = fighter.find('span').text.strip()\n",
    "            rank = 0 if rank == 'Champion' else rank\n",
    "            name = fighter.find('a').text.strip()\n",
    "            data = []\n",
    "            data.append([ranking_date, weightclass_name, name, rank]) \n",
    "            df = pd.DataFrame(data, columns=['date', 'weightclass', 'fighter', 'rank'])\n",
    "            result_df = result_df.append(df, ignore_index=True)\n",
    "#     result_df\n",
    "    print(\"Wrote rankings-\" + ranking_date + \" to file.\")\n",
    "    result_df.to_csv('rankings-'+ranking_date+'.csv', index=False)"
   ]
  },
  {
   "cell_type": "code",
   "execution_count": 24,
   "metadata": {},
   "outputs": [
    {
     "name": "stdout",
     "output_type": "stream",
     "text": [
      "Wrote rankings-2020-09-28 to file.\n"
     ]
    }
   ],
   "source": [
    "ranking_date = dates[0]\n",
    "for ranking_date in dates:\n",
    "    get_rankings(ranking_date)"
   ]
  },
  {
   "cell_type": "code",
   "execution_count": null,
   "metadata": {},
   "outputs": [],
   "source": []
  },
  {
   "cell_type": "code",
   "execution_count": 6,
   "metadata": {},
   "outputs": [],
   "source": []
  },
  {
   "cell_type": "code",
   "execution_count": null,
   "metadata": {},
   "outputs": [],
   "source": []
  },
  {
   "cell_type": "code",
   "execution_count": null,
   "metadata": {},
   "outputs": [],
   "source": [
    "# Concatenate csv files"
   ]
  },
  {
   "cell_type": "code",
   "execution_count": 25,
   "metadata": {},
   "outputs": [],
   "source": [
    "datafile = pd.read_csv(\"rankings_history-2020-09-21.csv\")\n",
    "supp = pd.read_csv(\"rankings-2020-09-28.csv\")"
   ]
  },
  {
   "cell_type": "code",
   "execution_count": 26,
   "metadata": {},
   "outputs": [],
   "source": [
    "compiled = pd.concat([datafile, supp], axis=0)"
   ]
  },
  {
   "cell_type": "code",
   "execution_count": 27,
   "metadata": {},
   "outputs": [],
   "source": [
    "compiled.to_csv(\"rankings_history-latest.csv\", index=False)"
   ]
  },
  {
   "cell_type": "code",
   "execution_count": null,
   "metadata": {},
   "outputs": [],
   "source": []
  },
  {
   "cell_type": "code",
   "execution_count": null,
   "metadata": {},
   "outputs": [],
   "source": []
  }
 ],
 "metadata": {
  "kernelspec": {
   "display_name": "Python 3.7.4 64-bit (conda)",
   "language": "python",
   "name": "python37464bitconda4dcffe2f55e8427f85ce17707297c537"
  },
  "language_info": {
   "codemirror_mode": {
    "name": "ipython",
    "version": 3
   },
   "file_extension": ".py",
   "mimetype": "text/x-python",
   "name": "python",
   "nbconvert_exporter": "python",
   "pygments_lexer": "ipython3",
   "version": "3.7.4"
  }
 },
 "nbformat": 4,
 "nbformat_minor": 2
}
