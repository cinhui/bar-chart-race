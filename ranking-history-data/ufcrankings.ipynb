{
 "cells": [
  {
   "cell_type": "markdown",
   "metadata": {},
   "source": [
    "# Initial Data Exploration and Processing \n",
    "1. Read dataset\n",
    "2. Extract lightweight division rankings\n",
    "3. Extract bantamweight division rankings \n",
    "4. Manipulate data to the correct format to be used in the visualization\n",
    "5. Export rankings and list of fighters to files"
   ]
  },
  {
   "cell_type": "code",
   "execution_count": 1,
   "metadata": {},
   "outputs": [],
   "source": [
    "# Import dependencies\n",
    "import pandas as pd\n",
    "import numpy as np\n",
    "import random\n",
    "import warnings\n",
    "import datetime\n",
    "warnings.simplefilter(action='ignore', category=FutureWarning)\n",
    "import json"
   ]
  },
  {
   "cell_type": "markdown",
   "metadata": {},
   "source": [
    "## Data\n",
    "\n",
    "UFC rankings data was obtained from https://www.kaggle.com/martj42/ufc-rankings/data and http://mma-stats.com/rankings/2013-02-05."
   ]
  },
  {
   "cell_type": "code",
   "execution_count": 2,
   "metadata": {},
   "outputs": [],
   "source": [
    "df = pd.read_csv(\"rankings_history.csv\") "
   ]
  },
  {
   "cell_type": "code",
   "execution_count": 3,
   "metadata": {},
   "outputs": [
    {
     "data": {
      "text/html": [
       "<div>\n",
       "<style scoped>\n",
       "    .dataframe tbody tr th:only-of-type {\n",
       "        vertical-align: middle;\n",
       "    }\n",
       "\n",
       "    .dataframe tbody tr th {\n",
       "        vertical-align: top;\n",
       "    }\n",
       "\n",
       "    .dataframe thead th {\n",
       "        text-align: right;\n",
       "    }\n",
       "</style>\n",
       "<table border=\"1\" class=\"dataframe\">\n",
       "  <thead>\n",
       "    <tr style=\"text-align: right;\">\n",
       "      <th></th>\n",
       "      <th>date</th>\n",
       "      <th>weightclass</th>\n",
       "      <th>fighter</th>\n",
       "      <th>rank</th>\n",
       "    </tr>\n",
       "  </thead>\n",
       "  <tbody>\n",
       "    <tr>\n",
       "      <td>0</td>\n",
       "      <td>2013-02-04</td>\n",
       "      <td>Pound-for-Pound</td>\n",
       "      <td>Anderson Silva</td>\n",
       "      <td>1</td>\n",
       "    </tr>\n",
       "    <tr>\n",
       "      <td>1</td>\n",
       "      <td>2013-02-04</td>\n",
       "      <td>Pound-for-Pound</td>\n",
       "      <td>Jon Jones</td>\n",
       "      <td>2</td>\n",
       "    </tr>\n",
       "    <tr>\n",
       "      <td>2</td>\n",
       "      <td>2013-02-04</td>\n",
       "      <td>Pound-for-Pound</td>\n",
       "      <td>Georges St-Pierre</td>\n",
       "      <td>3</td>\n",
       "    </tr>\n",
       "    <tr>\n",
       "      <td>3</td>\n",
       "      <td>2013-02-04</td>\n",
       "      <td>Pound-for-Pound</td>\n",
       "      <td>Jose Aldo</td>\n",
       "      <td>4</td>\n",
       "    </tr>\n",
       "    <tr>\n",
       "      <td>4</td>\n",
       "      <td>2013-02-04</td>\n",
       "      <td>Pound-for-Pound</td>\n",
       "      <td>Benson Henderson</td>\n",
       "      <td>5</td>\n",
       "    </tr>\n",
       "  </tbody>\n",
       "</table>\n",
       "</div>"
      ],
      "text/plain": [
       "         date      weightclass            fighter  rank\n",
       "0  2013-02-04  Pound-for-Pound     Anderson Silva     1\n",
       "1  2013-02-04  Pound-for-Pound          Jon Jones     2\n",
       "2  2013-02-04  Pound-for-Pound  Georges St-Pierre     3\n",
       "3  2013-02-04  Pound-for-Pound          Jose Aldo     4\n",
       "4  2013-02-04  Pound-for-Pound   Benson Henderson     5"
      ]
     },
     "execution_count": 3,
     "metadata": {},
     "output_type": "execute_result"
    }
   ],
   "source": [
    "df.head()"
   ]
  },
  {
   "cell_type": "code",
   "execution_count": 4,
   "metadata": {},
   "outputs": [
    {
     "name": "stdout",
     "output_type": "stream",
     "text": [
      "There are 228 ranking dates in the data.\n"
     ]
    }
   ],
   "source": [
    "print(\"There are \" + str(len(df['date'].unique())) + \" ranking dates in the data.\")"
   ]
  },
  {
   "cell_type": "code",
   "execution_count": 5,
   "metadata": {},
   "outputs": [],
   "source": [
    "# Label each date in order\n",
    "date_values = dict()\n",
    "count = 0\n",
    "for date in df['date'].unique():\n",
    "    date_values[date] = count\n",
    "    count += 1"
   ]
  },
  {
   "cell_type": "code",
   "execution_count": 6,
   "metadata": {},
   "outputs": [],
   "source": [
    "# Extract a sequence of dates\n",
    "df['sequence'] = df['date'].map(date_values)\n",
    "sequence_df = df[['sequence','date']]\n",
    "sequence_df = sequence_df.drop_duplicates(subset = 'date', keep='first')\n",
    "sequence_df['date_formatted'] = sequence_df['date'].apply(lambda x: datetime.datetime.strptime(x, \"%Y-%m-%d\").strftime('%B %d, %Y'))\n",
    "sequence_df.to_csv(\"sequence.csv\",index=False)"
   ]
  },
  {
   "cell_type": "code",
   "execution_count": 7,
   "metadata": {},
   "outputs": [
    {
     "data": {
      "text/plain": [
       "array(['Pound-for-Pound', 'Flyweight', 'Bantamweight', 'Featherweight',\n",
       "       'Lightweight', 'Welterweight', 'Middleweight', 'Light Heavyweight',\n",
       "       'Heavyweight', \"Women's Bantamweight\", \"Women's Strawweight\",\n",
       "       \"Women's Featherweight\", \"Women's Flyweight\"], dtype=object)"
      ]
     },
     "execution_count": 7,
     "metadata": {},
     "output_type": "execute_result"
    }
   ],
   "source": [
    "# Display the weightclass categories\n",
    "df['weightclass'].unique()"
   ]
  },
  {
   "cell_type": "code",
   "execution_count": 8,
   "metadata": {},
   "outputs": [
    {
     "data": {
      "text/html": [
       "<div>\n",
       "<style scoped>\n",
       "    .dataframe tbody tr th:only-of-type {\n",
       "        vertical-align: middle;\n",
       "    }\n",
       "\n",
       "    .dataframe tbody tr th {\n",
       "        vertical-align: top;\n",
       "    }\n",
       "\n",
       "    .dataframe thead th {\n",
       "        text-align: right;\n",
       "    }\n",
       "</style>\n",
       "<table border=\"1\" class=\"dataframe\">\n",
       "  <thead>\n",
       "    <tr style=\"text-align: right;\">\n",
       "      <th></th>\n",
       "      <th>date</th>\n",
       "      <th>weightclass</th>\n",
       "      <th>fighter</th>\n",
       "      <th>rank</th>\n",
       "      <th>sequence</th>\n",
       "    </tr>\n",
       "  </thead>\n",
       "  <tbody>\n",
       "    <tr>\n",
       "      <td>0</td>\n",
       "      <td>2013-02-04</td>\n",
       "      <td>Pound-for-Pound</td>\n",
       "      <td>Anderson Silva</td>\n",
       "      <td>1</td>\n",
       "      <td>0</td>\n",
       "    </tr>\n",
       "    <tr>\n",
       "      <td>1</td>\n",
       "      <td>2013-02-04</td>\n",
       "      <td>Pound-for-Pound</td>\n",
       "      <td>Jon Jones</td>\n",
       "      <td>2</td>\n",
       "      <td>0</td>\n",
       "    </tr>\n",
       "    <tr>\n",
       "      <td>2</td>\n",
       "      <td>2013-02-04</td>\n",
       "      <td>Pound-for-Pound</td>\n",
       "      <td>Georges St-Pierre</td>\n",
       "      <td>3</td>\n",
       "      <td>0</td>\n",
       "    </tr>\n",
       "    <tr>\n",
       "      <td>3</td>\n",
       "      <td>2013-02-04</td>\n",
       "      <td>Pound-for-Pound</td>\n",
       "      <td>Jose Aldo</td>\n",
       "      <td>4</td>\n",
       "      <td>0</td>\n",
       "    </tr>\n",
       "    <tr>\n",
       "      <td>4</td>\n",
       "      <td>2013-02-04</td>\n",
       "      <td>Pound-for-Pound</td>\n",
       "      <td>Benson Henderson</td>\n",
       "      <td>5</td>\n",
       "      <td>0</td>\n",
       "    </tr>\n",
       "  </tbody>\n",
       "</table>\n",
       "</div>"
      ],
      "text/plain": [
       "         date      weightclass            fighter  rank  sequence\n",
       "0  2013-02-04  Pound-for-Pound     Anderson Silva     1         0\n",
       "1  2013-02-04  Pound-for-Pound          Jon Jones     2         0\n",
       "2  2013-02-04  Pound-for-Pound  Georges St-Pierre     3         0\n",
       "3  2013-02-04  Pound-for-Pound          Jose Aldo     4         0\n",
       "4  2013-02-04  Pound-for-Pound   Benson Henderson     5         0"
      ]
     },
     "execution_count": 8,
     "metadata": {},
     "output_type": "execute_result"
    }
   ],
   "source": [
    "df.head()"
   ]
  },
  {
   "cell_type": "markdown",
   "metadata": {},
   "source": [
    "## Extract the rankings for the lightweight division"
   ]
  },
  {
   "cell_type": "code",
   "execution_count": 9,
   "metadata": {
    "scrolled": false
   },
   "outputs": [
    {
     "name": "stdout",
     "output_type": "stream",
     "text": [
      "Number of fighters: 44\n",
      "Number of entries: 3531\n"
     ]
    }
   ],
   "source": [
    "# Select lightweight class\n",
    "lightweight_df = df[df['weightclass']=='Lightweight']\n",
    "lightweight_df = lightweight_df.reset_index()\n",
    "lightweight_df = lightweight_df.drop(columns=['index'])\n",
    "print(\"Number of fighters: \" + str(len(lightweight_df['fighter'].unique())))\n",
    "print(\"Number of entries: \" + str(len(lightweight_df)))"
   ]
  },
  {
   "cell_type": "code",
   "execution_count": 10,
   "metadata": {},
   "outputs": [
    {
     "data": {
      "text/html": [
       "<div>\n",
       "<style scoped>\n",
       "    .dataframe tbody tr th:only-of-type {\n",
       "        vertical-align: middle;\n",
       "    }\n",
       "\n",
       "    .dataframe tbody tr th {\n",
       "        vertical-align: top;\n",
       "    }\n",
       "\n",
       "    .dataframe thead th {\n",
       "        text-align: right;\n",
       "    }\n",
       "</style>\n",
       "<table border=\"1\" class=\"dataframe\">\n",
       "  <thead>\n",
       "    <tr style=\"text-align: right;\">\n",
       "      <th></th>\n",
       "      <th>date</th>\n",
       "      <th>weightclass</th>\n",
       "      <th>fighter</th>\n",
       "      <th>rank</th>\n",
       "      <th>sequence</th>\n",
       "    </tr>\n",
       "  </thead>\n",
       "  <tbody>\n",
       "    <tr>\n",
       "      <td>0</td>\n",
       "      <td>2013-02-04</td>\n",
       "      <td>Lightweight</td>\n",
       "      <td>Benson Henderson</td>\n",
       "      <td>0</td>\n",
       "      <td>0</td>\n",
       "    </tr>\n",
       "    <tr>\n",
       "      <td>1</td>\n",
       "      <td>2013-02-04</td>\n",
       "      <td>Lightweight</td>\n",
       "      <td>Gilbert Melendez</td>\n",
       "      <td>1</td>\n",
       "      <td>0</td>\n",
       "    </tr>\n",
       "    <tr>\n",
       "      <td>2</td>\n",
       "      <td>2013-02-04</td>\n",
       "      <td>Lightweight</td>\n",
       "      <td>Anthony Pettis</td>\n",
       "      <td>2</td>\n",
       "      <td>0</td>\n",
       "    </tr>\n",
       "    <tr>\n",
       "      <td>3</td>\n",
       "      <td>2013-02-04</td>\n",
       "      <td>Lightweight</td>\n",
       "      <td>Gray Maynard</td>\n",
       "      <td>3</td>\n",
       "      <td>0</td>\n",
       "    </tr>\n",
       "    <tr>\n",
       "      <td>4</td>\n",
       "      <td>2013-02-04</td>\n",
       "      <td>Lightweight</td>\n",
       "      <td>Nate Diaz</td>\n",
       "      <td>4</td>\n",
       "      <td>0</td>\n",
       "    </tr>\n",
       "  </tbody>\n",
       "</table>\n",
       "</div>"
      ],
      "text/plain": [
       "         date  weightclass           fighter  rank  sequence\n",
       "0  2013-02-04  Lightweight  Benson Henderson     0         0\n",
       "1  2013-02-04  Lightweight  Gilbert Melendez     1         0\n",
       "2  2013-02-04  Lightweight    Anthony Pettis     2         0\n",
       "3  2013-02-04  Lightweight      Gray Maynard     3         0\n",
       "4  2013-02-04  Lightweight         Nate Diaz     4         0"
      ]
     },
     "execution_count": 10,
     "metadata": {},
     "output_type": "execute_result"
    }
   ],
   "source": [
    "lightweight_df.head()"
   ]
  },
  {
   "cell_type": "code",
   "execution_count": 11,
   "metadata": {},
   "outputs": [],
   "source": [
    "# Extract sequence of dates\n",
    "lightweight_df['sequence'] = lightweight_df['date'].map(date_values)\n",
    "sequence_df = lightweight_df[['sequence','date']]\n",
    "sequence_df = sequence_df.drop_duplicates(subset = 'date', keep='first')\n",
    "# sequence_df.to_csv(\"lightweight-sequence.csv\",index=False)"
   ]
  },
  {
   "cell_type": "code",
   "execution_count": 12,
   "metadata": {},
   "outputs": [],
   "source": [
    "# Take top 10\n",
    "lightweight_df = lightweight_df[lightweight_df['rank']<=10]\n",
    "lightweight_df['reverse_rank'] = lightweight_df['rank'].apply(lambda x: 11-x if x > 0 else 11)"
   ]
  },
  {
   "cell_type": "code",
   "execution_count": 93,
   "metadata": {},
   "outputs": [
    {
     "name": "stdout",
     "output_type": "stream",
     "text": [
      "Number of fighters: 31\n",
      "Number of entries: 2511\n"
     ]
    },
    {
     "data": {
      "text/html": [
       "<div>\n",
       "<style scoped>\n",
       "    .dataframe tbody tr th:only-of-type {\n",
       "        vertical-align: middle;\n",
       "    }\n",
       "\n",
       "    .dataframe tbody tr th {\n",
       "        vertical-align: top;\n",
       "    }\n",
       "\n",
       "    .dataframe thead th {\n",
       "        text-align: right;\n",
       "    }\n",
       "</style>\n",
       "<table border=\"1\" class=\"dataframe\">\n",
       "  <thead>\n",
       "    <tr style=\"text-align: right;\">\n",
       "      <th></th>\n",
       "      <th>date</th>\n",
       "      <th>weightclass</th>\n",
       "      <th>fighter</th>\n",
       "      <th>rank</th>\n",
       "      <th>sequence</th>\n",
       "      <th>reverse_rank</th>\n",
       "    </tr>\n",
       "  </thead>\n",
       "  <tbody>\n",
       "    <tr>\n",
       "      <td>0</td>\n",
       "      <td>2013-02-04</td>\n",
       "      <td>Lightweight</td>\n",
       "      <td>Benson Henderson</td>\n",
       "      <td>0</td>\n",
       "      <td>0</td>\n",
       "      <td>11</td>\n",
       "    </tr>\n",
       "    <tr>\n",
       "      <td>1</td>\n",
       "      <td>2013-02-04</td>\n",
       "      <td>Lightweight</td>\n",
       "      <td>Gilbert Melendez</td>\n",
       "      <td>1</td>\n",
       "      <td>0</td>\n",
       "      <td>10</td>\n",
       "    </tr>\n",
       "    <tr>\n",
       "      <td>2</td>\n",
       "      <td>2013-02-04</td>\n",
       "      <td>Lightweight</td>\n",
       "      <td>Anthony Pettis</td>\n",
       "      <td>2</td>\n",
       "      <td>0</td>\n",
       "      <td>9</td>\n",
       "    </tr>\n",
       "    <tr>\n",
       "      <td>3</td>\n",
       "      <td>2013-02-04</td>\n",
       "      <td>Lightweight</td>\n",
       "      <td>Gray Maynard</td>\n",
       "      <td>3</td>\n",
       "      <td>0</td>\n",
       "      <td>8</td>\n",
       "    </tr>\n",
       "    <tr>\n",
       "      <td>4</td>\n",
       "      <td>2013-02-04</td>\n",
       "      <td>Lightweight</td>\n",
       "      <td>Nate Diaz</td>\n",
       "      <td>4</td>\n",
       "      <td>0</td>\n",
       "      <td>7</td>\n",
       "    </tr>\n",
       "    <tr>\n",
       "      <td>...</td>\n",
       "      <td>...</td>\n",
       "      <td>...</td>\n",
       "      <td>...</td>\n",
       "      <td>...</td>\n",
       "      <td>...</td>\n",
       "      <td>...</td>\n",
       "    </tr>\n",
       "    <tr>\n",
       "      <td>3521</td>\n",
       "      <td>2020-03-16</td>\n",
       "      <td>Lightweight</td>\n",
       "      <td>Donald Cerrone</td>\n",
       "      <td>6</td>\n",
       "      <td>227</td>\n",
       "      <td>5</td>\n",
       "    </tr>\n",
       "    <tr>\n",
       "      <td>3522</td>\n",
       "      <td>2020-03-16</td>\n",
       "      <td>Lightweight</td>\n",
       "      <td>Paul Felder</td>\n",
       "      <td>7</td>\n",
       "      <td>227</td>\n",
       "      <td>4</td>\n",
       "    </tr>\n",
       "    <tr>\n",
       "      <td>3523</td>\n",
       "      <td>2020-03-16</td>\n",
       "      <td>Lightweight</td>\n",
       "      <td>Charles Oliveira</td>\n",
       "      <td>8</td>\n",
       "      <td>227</td>\n",
       "      <td>3</td>\n",
       "    </tr>\n",
       "    <tr>\n",
       "      <td>3524</td>\n",
       "      <td>2020-03-16</td>\n",
       "      <td>Lightweight</td>\n",
       "      <td>Al Iaquinta</td>\n",
       "      <td>9</td>\n",
       "      <td>227</td>\n",
       "      <td>2</td>\n",
       "    </tr>\n",
       "    <tr>\n",
       "      <td>3525</td>\n",
       "      <td>2020-03-16</td>\n",
       "      <td>Lightweight</td>\n",
       "      <td>Kevin Lee</td>\n",
       "      <td>10</td>\n",
       "      <td>227</td>\n",
       "      <td>1</td>\n",
       "    </tr>\n",
       "  </tbody>\n",
       "</table>\n",
       "<p>2511 rows × 6 columns</p>\n",
       "</div>"
      ],
      "text/plain": [
       "            date  weightclass           fighter  rank  sequence  reverse_rank\n",
       "0     2013-02-04  Lightweight  Benson Henderson     0         0            11\n",
       "1     2013-02-04  Lightweight  Gilbert Melendez     1         0            10\n",
       "2     2013-02-04  Lightweight    Anthony Pettis     2         0             9\n",
       "3     2013-02-04  Lightweight      Gray Maynard     3         0             8\n",
       "4     2013-02-04  Lightweight         Nate Diaz     4         0             7\n",
       "...          ...          ...               ...   ...       ...           ...\n",
       "3521  2020-03-16  Lightweight    Donald Cerrone     6       227             5\n",
       "3522  2020-03-16  Lightweight       Paul Felder     7       227             4\n",
       "3523  2020-03-16  Lightweight  Charles Oliveira     8       227             3\n",
       "3524  2020-03-16  Lightweight       Al Iaquinta     9       227             2\n",
       "3525  2020-03-16  Lightweight         Kevin Lee    10       227             1\n",
       "\n",
       "[2511 rows x 6 columns]"
      ]
     },
     "execution_count": 93,
     "metadata": {},
     "output_type": "execute_result"
    }
   ],
   "source": [
    "print(\"Number of fighters: \" + str(len(lightweight_df['fighter'].unique())))\n",
    "print(\"Number of entries: \" + str(len(lightweight_df)))\n",
    "lightweight_df"
   ]
  },
  {
   "cell_type": "code",
   "execution_count": 15,
   "metadata": {},
   "outputs": [],
   "source": [
    "# Export (reverse) rankings over time in csv\n",
    "new_lightweight_df = lightweight_df.pivot_table('reverse_rank', 'fighter', 'sequence', fill_value=\"-1\")\n",
    "new_lightweight_df.to_csv(\"lightweight-rankings.csv\", index=True)"
   ]
  },
  {
   "cell_type": "code",
   "execution_count": 16,
   "metadata": {},
   "outputs": [],
   "source": [
    "# Export list of unique fighters\n",
    "fighters_df = pd.DataFrame(lightweight_df['fighter'].unique(),columns=[\"fighter\"])\n",
    "fighters_df.to_csv(\"lightweight-fighters.csv\",index=False)"
   ]
  },
  {
   "cell_type": "code",
   "execution_count": 17,
   "metadata": {},
   "outputs": [],
   "source": [
    "# Provide a default bar color\n",
    "fighters_df['bar_color'] = \"#C5B0D5\""
   ]
  },
  {
   "cell_type": "code",
   "execution_count": 49,
   "metadata": {},
   "outputs": [],
   "source": [
    "# lightweight_df.groupby(['rank']).agg(['count'])\n",
    "lightweight_df.groupby(['rank']).get_group(1).to_csv('temp.csv')"
   ]
  },
  {
   "cell_type": "code",
   "execution_count": null,
   "metadata": {},
   "outputs": [],
   "source": [
    "# Read list of fighters and export to json\n",
    "# fighters_df = pd.read_csv(\"UFC Fighters - lightweight-fighters.csv\") \n",
    "# fighters_df[['fighter','bar_color']].to_json(\"lightweight-fighters.json\", orient='records')"
   ]
  },
  {
   "cell_type": "markdown",
   "metadata": {},
   "source": [
    "## Extract rankings for the bantamweight division"
   ]
  },
  {
   "cell_type": "code",
   "execution_count": 18,
   "metadata": {},
   "outputs": [
    {
     "name": "stdout",
     "output_type": "stream",
     "text": [
      "Number of fighters: 52\n",
      "Number of entries: 3529\n"
     ]
    }
   ],
   "source": [
    "# Repeat for bantamweight class\n",
    "bantamweight_df = df[df['weightclass']=='Bantamweight']\n",
    "bantamweight_df = bantamweight_df.reset_index()\n",
    "bantamweight_df = bantamweight_df.drop(columns=['index'])\n",
    "print(\"Number of fighters: \" + str(len(bantamweight_df['fighter'].unique())))\n",
    "print(\"Number of entries: \" + str(len(bantamweight_df)))"
   ]
  },
  {
   "cell_type": "code",
   "execution_count": 19,
   "metadata": {},
   "outputs": [],
   "source": [
    "# Extract sequence of dates\n",
    "bantamweight_df['sequence'] = bantamweight_df['date'].map(date_values)\n",
    "sequence_df = bantamweight_df[['sequence','date']]\n",
    "sequence_df = sequence_df.drop_duplicates(subset = 'date', keep='first')\n",
    "# sequence_df.to_csv(\"bantamweight-sequence.csv\",index=False)"
   ]
  },
  {
   "cell_type": "code",
   "execution_count": 20,
   "metadata": {},
   "outputs": [],
   "source": [
    "# Take top 10\n",
    "bantamweight_df = bantamweight_df[bantamweight_df['rank']<=10]\n",
    "bantamweight_df['reverse_rank'] = bantamweight_df['rank'].apply(lambda x: 11-x if x > 0 else 11)"
   ]
  },
  {
   "cell_type": "code",
   "execution_count": 21,
   "metadata": {},
   "outputs": [
    {
     "name": "stdout",
     "output_type": "stream",
     "text": [
      "Number of fighters: 34\n",
      "Number of entries: 2508\n"
     ]
    },
    {
     "data": {
      "text/html": [
       "<div>\n",
       "<style scoped>\n",
       "    .dataframe tbody tr th:only-of-type {\n",
       "        vertical-align: middle;\n",
       "    }\n",
       "\n",
       "    .dataframe tbody tr th {\n",
       "        vertical-align: top;\n",
       "    }\n",
       "\n",
       "    .dataframe thead th {\n",
       "        text-align: right;\n",
       "    }\n",
       "</style>\n",
       "<table border=\"1\" class=\"dataframe\">\n",
       "  <thead>\n",
       "    <tr style=\"text-align: right;\">\n",
       "      <th></th>\n",
       "      <th>date</th>\n",
       "      <th>weightclass</th>\n",
       "      <th>fighter</th>\n",
       "      <th>rank</th>\n",
       "      <th>sequence</th>\n",
       "      <th>reverse_rank</th>\n",
       "    </tr>\n",
       "  </thead>\n",
       "  <tbody>\n",
       "    <tr>\n",
       "      <td>0</td>\n",
       "      <td>2013-02-04</td>\n",
       "      <td>Bantamweight</td>\n",
       "      <td>Dominick Cruz</td>\n",
       "      <td>0</td>\n",
       "      <td>0</td>\n",
       "      <td>11</td>\n",
       "    </tr>\n",
       "    <tr>\n",
       "      <td>1</td>\n",
       "      <td>2013-02-04</td>\n",
       "      <td>Bantamweight</td>\n",
       "      <td>Renan Barao</td>\n",
       "      <td>1</td>\n",
       "      <td>0</td>\n",
       "      <td>10</td>\n",
       "    </tr>\n",
       "    <tr>\n",
       "      <td>2</td>\n",
       "      <td>2013-02-04</td>\n",
       "      <td>Bantamweight</td>\n",
       "      <td>Michael McDonald</td>\n",
       "      <td>2</td>\n",
       "      <td>0</td>\n",
       "      <td>9</td>\n",
       "    </tr>\n",
       "    <tr>\n",
       "      <td>3</td>\n",
       "      <td>2013-02-04</td>\n",
       "      <td>Bantamweight</td>\n",
       "      <td>Urijah Faber</td>\n",
       "      <td>3</td>\n",
       "      <td>0</td>\n",
       "      <td>8</td>\n",
       "    </tr>\n",
       "    <tr>\n",
       "      <td>4</td>\n",
       "      <td>2013-02-04</td>\n",
       "      <td>Bantamweight</td>\n",
       "      <td>Eddie Wineland</td>\n",
       "      <td>4</td>\n",
       "      <td>0</td>\n",
       "      <td>7</td>\n",
       "    </tr>\n",
       "    <tr>\n",
       "      <td>...</td>\n",
       "      <td>...</td>\n",
       "      <td>...</td>\n",
       "      <td>...</td>\n",
       "      <td>...</td>\n",
       "      <td>...</td>\n",
       "      <td>...</td>\n",
       "    </tr>\n",
       "    <tr>\n",
       "      <td>3519</td>\n",
       "      <td>2020-03-16</td>\n",
       "      <td>Bantamweight</td>\n",
       "      <td>Jose Aldo</td>\n",
       "      <td>6</td>\n",
       "      <td>227</td>\n",
       "      <td>5</td>\n",
       "    </tr>\n",
       "    <tr>\n",
       "      <td>3520</td>\n",
       "      <td>2020-03-16</td>\n",
       "      <td>Bantamweight</td>\n",
       "      <td>Pedro Munhoz</td>\n",
       "      <td>7</td>\n",
       "      <td>227</td>\n",
       "      <td>4</td>\n",
       "    </tr>\n",
       "    <tr>\n",
       "      <td>3521</td>\n",
       "      <td>2020-03-16</td>\n",
       "      <td>Bantamweight</td>\n",
       "      <td>Jimmie Rivera</td>\n",
       "      <td>8</td>\n",
       "      <td>227</td>\n",
       "      <td>3</td>\n",
       "    </tr>\n",
       "    <tr>\n",
       "      <td>3522</td>\n",
       "      <td>2020-03-16</td>\n",
       "      <td>Bantamweight</td>\n",
       "      <td>Cody Garbrandt</td>\n",
       "      <td>9</td>\n",
       "      <td>227</td>\n",
       "      <td>2</td>\n",
       "    </tr>\n",
       "    <tr>\n",
       "      <td>3523</td>\n",
       "      <td>2020-03-16</td>\n",
       "      <td>Bantamweight</td>\n",
       "      <td>Rob Font</td>\n",
       "      <td>10</td>\n",
       "      <td>227</td>\n",
       "      <td>1</td>\n",
       "    </tr>\n",
       "  </tbody>\n",
       "</table>\n",
       "<p>2508 rows × 6 columns</p>\n",
       "</div>"
      ],
      "text/plain": [
       "            date   weightclass           fighter  rank  sequence  reverse_rank\n",
       "0     2013-02-04  Bantamweight     Dominick Cruz     0         0            11\n",
       "1     2013-02-04  Bantamweight       Renan Barao     1         0            10\n",
       "2     2013-02-04  Bantamweight  Michael McDonald     2         0             9\n",
       "3     2013-02-04  Bantamweight      Urijah Faber     3         0             8\n",
       "4     2013-02-04  Bantamweight    Eddie Wineland     4         0             7\n",
       "...          ...           ...               ...   ...       ...           ...\n",
       "3519  2020-03-16  Bantamweight         Jose Aldo     6       227             5\n",
       "3520  2020-03-16  Bantamweight      Pedro Munhoz     7       227             4\n",
       "3521  2020-03-16  Bantamweight     Jimmie Rivera     8       227             3\n",
       "3522  2020-03-16  Bantamweight    Cody Garbrandt     9       227             2\n",
       "3523  2020-03-16  Bantamweight          Rob Font    10       227             1\n",
       "\n",
       "[2508 rows x 6 columns]"
      ]
     },
     "execution_count": 21,
     "metadata": {},
     "output_type": "execute_result"
    }
   ],
   "source": [
    "print(\"Number of fighters: \" + str(len(bantamweight_df['fighter'].unique())))\n",
    "print(\"Number of entries: \" + str(len(bantamweight_df)))\n",
    "bantamweight_df"
   ]
  },
  {
   "cell_type": "code",
   "execution_count": 22,
   "metadata": {
    "scrolled": true
   },
   "outputs": [
    {
     "data": {
      "text/html": [
       "<div>\n",
       "<style scoped>\n",
       "    .dataframe tbody tr th:only-of-type {\n",
       "        vertical-align: middle;\n",
       "    }\n",
       "\n",
       "    .dataframe tbody tr th {\n",
       "        vertical-align: top;\n",
       "    }\n",
       "\n",
       "    .dataframe thead th {\n",
       "        text-align: right;\n",
       "    }\n",
       "</style>\n",
       "<table border=\"1\" class=\"dataframe\">\n",
       "  <thead>\n",
       "    <tr style=\"text-align: right;\">\n",
       "      <th></th>\n",
       "      <th>date</th>\n",
       "      <th>weightclass</th>\n",
       "      <th>fighter</th>\n",
       "      <th>rank</th>\n",
       "      <th>sequence</th>\n",
       "      <th>reverse_rank</th>\n",
       "    </tr>\n",
       "  </thead>\n",
       "  <tbody>\n",
       "    <tr>\n",
       "      <td>3145</td>\n",
       "      <td>2019-03-26</td>\n",
       "      <td>Bantamweight</td>\n",
       "      <td>NaN</td>\n",
       "      <td>0</td>\n",
       "      <td>204</td>\n",
       "      <td>11</td>\n",
       "    </tr>\n",
       "    <tr>\n",
       "      <td>3161</td>\n",
       "      <td>2019-04-01</td>\n",
       "      <td>Bantamweight</td>\n",
       "      <td>NaN</td>\n",
       "      <td>0</td>\n",
       "      <td>205</td>\n",
       "      <td>11</td>\n",
       "    </tr>\n",
       "    <tr>\n",
       "      <td>3177</td>\n",
       "      <td>2019-04-15</td>\n",
       "      <td>Bantamweight</td>\n",
       "      <td>NaN</td>\n",
       "      <td>0</td>\n",
       "      <td>206</td>\n",
       "      <td>11</td>\n",
       "    </tr>\n",
       "    <tr>\n",
       "      <td>3193</td>\n",
       "      <td>2019-05-13</td>\n",
       "      <td>Bantamweight</td>\n",
       "      <td>NaN</td>\n",
       "      <td>0</td>\n",
       "      <td>207</td>\n",
       "      <td>11</td>\n",
       "    </tr>\n",
       "  </tbody>\n",
       "</table>\n",
       "</div>"
      ],
      "text/plain": [
       "            date   weightclass fighter  rank  sequence  reverse_rank\n",
       "3145  2019-03-26  Bantamweight     NaN     0       204            11\n",
       "3161  2019-04-01  Bantamweight     NaN     0       205            11\n",
       "3177  2019-04-15  Bantamweight     NaN     0       206            11\n",
       "3193  2019-05-13  Bantamweight     NaN     0       207            11"
      ]
     },
     "execution_count": 22,
     "metadata": {},
     "output_type": "execute_result"
    }
   ],
   "source": [
    "# Check if there was a vacant ranking \n",
    "# Between 2019-03-26 to 2019-05-13, there was no Bantamweight Champion.\n",
    "bantamweight_df[bantamweight_df['fighter'].isnull()]"
   ]
  },
  {
   "cell_type": "code",
   "execution_count": 23,
   "metadata": {},
   "outputs": [],
   "source": [
    "# Replace NaN fighter with \"Vacant\"\n",
    "bantamweight_df['fighter'].fillna(\"Vacant\", inplace=True)"
   ]
  },
  {
   "cell_type": "code",
   "execution_count": 24,
   "metadata": {},
   "outputs": [],
   "source": [
    "# Export (reverse) rankings over time in csv\n",
    "new_bantamweight_df = bantamweight_df.pivot_table('reverse_rank', 'fighter', 'sequence', fill_value=\"-1\")\n",
    "new_bantamweight_df.to_csv(\"bantamweight-rankings.csv\", index=True)"
   ]
  },
  {
   "cell_type": "code",
   "execution_count": 25,
   "metadata": {},
   "outputs": [],
   "source": [
    "# Export list of unique fighters\n",
    "fighters_df = pd.DataFrame(bantamweight_df['fighter'].unique(),columns=[\"fighter\"])\n",
    "fighters_df.to_csv(\"bantamweight-fighters.csv\",index=False)"
   ]
  },
  {
   "cell_type": "code",
   "execution_count": 26,
   "metadata": {},
   "outputs": [],
   "source": [
    "# Provide a default bar color\n",
    "fighters_df['bar_color'] = \"#98DF8A\""
   ]
  },
  {
   "cell_type": "code",
   "execution_count": null,
   "metadata": {},
   "outputs": [],
   "source": []
  },
  {
   "cell_type": "code",
   "execution_count": null,
   "metadata": {},
   "outputs": [],
   "source": [
    "# Read list of fighters and export to json\n",
    "# fighters_df = pd.read_csv(\"UFC Fighters - bantamweight-fighters.csv\") \n",
    "# fighters_df[['fighter','bar_color']].to_json(\"bantamweight-fighters.json\", orient='records')"
   ]
  },
  {
   "cell_type": "code",
   "execution_count": null,
   "metadata": {
    "scrolled": true
   },
   "outputs": [],
   "source": []
  }
 ],
 "metadata": {
  "kernelspec": {
   "display_name": "Python 3",
   "language": "python",
   "name": "python3"
  },
  "language_info": {
   "codemirror_mode": {
    "name": "ipython",
    "version": 3
   },
   "file_extension": ".py",
   "mimetype": "text/x-python",
   "name": "python",
   "nbconvert_exporter": "python",
   "pygments_lexer": "ipython3",
   "version": "3.7.4"
  }
 },
 "nbformat": 4,
 "nbformat_minor": 2
}
