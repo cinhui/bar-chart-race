{
 "cells": [
  {
   "cell_type": "code",
   "execution_count": 2,
   "metadata": {},
   "outputs": [],
   "source": [
    "import pandas as pd\n",
    "import numpy as np\n",
    "import random\n",
    "import warnings\n",
    "import datetime\n",
    "warnings.simplefilter(action='ignore', category=FutureWarning)\n",
    "import plotly.graph_objects as go\n",
    "import plotly.io as pio\n",
    "import json"
   ]
  },
  {
   "cell_type": "code",
   "execution_count": 11,
   "metadata": {},
   "outputs": [],
   "source": [
    "# https://www.kaggle.com/martj42/ufc-rankings/data#\n",
    "# http://mma-stats.com/rankings/2013-02-05\n",
    "df = pd.read_csv(\"rankings_history.csv\") "
   ]
  },
  {
   "cell_type": "code",
   "execution_count": 12,
   "metadata": {},
   "outputs": [
    {
     "data": {
      "text/html": [
       "<div>\n",
       "<style scoped>\n",
       "    .dataframe tbody tr th:only-of-type {\n",
       "        vertical-align: middle;\n",
       "    }\n",
       "\n",
       "    .dataframe tbody tr th {\n",
       "        vertical-align: top;\n",
       "    }\n",
       "\n",
       "    .dataframe thead th {\n",
       "        text-align: right;\n",
       "    }\n",
       "</style>\n",
       "<table border=\"1\" class=\"dataframe\">\n",
       "  <thead>\n",
       "    <tr style=\"text-align: right;\">\n",
       "      <th></th>\n",
       "      <th>date</th>\n",
       "      <th>weightclass</th>\n",
       "      <th>fighter</th>\n",
       "      <th>rank</th>\n",
       "    </tr>\n",
       "  </thead>\n",
       "  <tbody>\n",
       "    <tr>\n",
       "      <td>0</td>\n",
       "      <td>2013-02-04</td>\n",
       "      <td>Pound-for-Pound</td>\n",
       "      <td>Anderson Silva</td>\n",
       "      <td>1</td>\n",
       "    </tr>\n",
       "    <tr>\n",
       "      <td>1</td>\n",
       "      <td>2013-02-04</td>\n",
       "      <td>Pound-for-Pound</td>\n",
       "      <td>Jon Jones</td>\n",
       "      <td>2</td>\n",
       "    </tr>\n",
       "    <tr>\n",
       "      <td>2</td>\n",
       "      <td>2013-02-04</td>\n",
       "      <td>Pound-for-Pound</td>\n",
       "      <td>Georges St-Pierre</td>\n",
       "      <td>3</td>\n",
       "    </tr>\n",
       "    <tr>\n",
       "      <td>3</td>\n",
       "      <td>2013-02-04</td>\n",
       "      <td>Pound-for-Pound</td>\n",
       "      <td>Jose Aldo</td>\n",
       "      <td>4</td>\n",
       "    </tr>\n",
       "    <tr>\n",
       "      <td>4</td>\n",
       "      <td>2013-02-04</td>\n",
       "      <td>Pound-for-Pound</td>\n",
       "      <td>Benson Henderson</td>\n",
       "      <td>5</td>\n",
       "    </tr>\n",
       "  </tbody>\n",
       "</table>\n",
       "</div>"
      ],
      "text/plain": [
       "         date      weightclass            fighter  rank\n",
       "0  2013-02-04  Pound-for-Pound     Anderson Silva     1\n",
       "1  2013-02-04  Pound-for-Pound          Jon Jones     2\n",
       "2  2013-02-04  Pound-for-Pound  Georges St-Pierre     3\n",
       "3  2013-02-04  Pound-for-Pound          Jose Aldo     4\n",
       "4  2013-02-04  Pound-for-Pound   Benson Henderson     5"
      ]
     },
     "execution_count": 12,
     "metadata": {},
     "output_type": "execute_result"
    }
   ],
   "source": [
    "df.head()"
   ]
  },
  {
   "cell_type": "code",
   "execution_count": 13,
   "metadata": {},
   "outputs": [
    {
     "data": {
      "text/plain": [
       "228"
      ]
     },
     "execution_count": 13,
     "metadata": {},
     "output_type": "execute_result"
    }
   ],
   "source": [
    "len(df['date'].unique())"
   ]
  },
  {
   "cell_type": "code",
   "execution_count": 14,
   "metadata": {},
   "outputs": [],
   "source": [
    "# label each date in order\n",
    "date_values = dict()\n",
    "count = 0\n",
    "for date in df['date'].unique():\n",
    "    date_values[date] = count\n",
    "    count += 1"
   ]
  },
  {
   "cell_type": "code",
   "execution_count": 15,
   "metadata": {},
   "outputs": [],
   "source": [
    "# Extract sequence of dates\n",
    "df['sequence'] = df['date'].map(date_values)\n",
    "sequence_df = df[['sequence','date']]\n",
    "sequence_df = sequence_df.drop_duplicates(subset = 'date', keep='first')\n",
    "sequence_df['date_formatted'] = sequence_df['date'].apply(lambda x: datetime.datetime.strptime(x, \"%Y-%m-%d\").strftime('%B %d, %Y'))\n",
    "sequence_df.to_csv(\"sequence.csv\",index=False)"
   ]
  },
  {
   "cell_type": "code",
   "execution_count": 16,
   "metadata": {},
   "outputs": [
    {
     "data": {
      "text/plain": [
       "array(['Pound-for-Pound', 'Flyweight', 'Bantamweight', 'Featherweight',\n",
       "       'Lightweight', 'Welterweight', 'Middleweight', 'Light Heavyweight',\n",
       "       'Heavyweight', \"Women's Bantamweight\", \"Women's Strawweight\",\n",
       "       \"Women's Featherweight\", \"Women's Flyweight\"], dtype=object)"
      ]
     },
     "execution_count": 16,
     "metadata": {},
     "output_type": "execute_result"
    }
   ],
   "source": [
    "df['weightclass'].unique()"
   ]
  },
  {
   "cell_type": "code",
   "execution_count": 17,
   "metadata": {},
   "outputs": [
    {
     "data": {
      "text/html": [
       "<div>\n",
       "<style scoped>\n",
       "    .dataframe tbody tr th:only-of-type {\n",
       "        vertical-align: middle;\n",
       "    }\n",
       "\n",
       "    .dataframe tbody tr th {\n",
       "        vertical-align: top;\n",
       "    }\n",
       "\n",
       "    .dataframe thead th {\n",
       "        text-align: right;\n",
       "    }\n",
       "</style>\n",
       "<table border=\"1\" class=\"dataframe\">\n",
       "  <thead>\n",
       "    <tr style=\"text-align: right;\">\n",
       "      <th></th>\n",
       "      <th>date</th>\n",
       "      <th>weightclass</th>\n",
       "      <th>fighter</th>\n",
       "      <th>rank</th>\n",
       "      <th>sequence</th>\n",
       "    </tr>\n",
       "  </thead>\n",
       "  <tbody>\n",
       "    <tr>\n",
       "      <td>0</td>\n",
       "      <td>2013-02-04</td>\n",
       "      <td>Pound-for-Pound</td>\n",
       "      <td>Anderson Silva</td>\n",
       "      <td>1</td>\n",
       "      <td>0</td>\n",
       "    </tr>\n",
       "    <tr>\n",
       "      <td>1</td>\n",
       "      <td>2013-02-04</td>\n",
       "      <td>Pound-for-Pound</td>\n",
       "      <td>Jon Jones</td>\n",
       "      <td>2</td>\n",
       "      <td>0</td>\n",
       "    </tr>\n",
       "    <tr>\n",
       "      <td>2</td>\n",
       "      <td>2013-02-04</td>\n",
       "      <td>Pound-for-Pound</td>\n",
       "      <td>Georges St-Pierre</td>\n",
       "      <td>3</td>\n",
       "      <td>0</td>\n",
       "    </tr>\n",
       "    <tr>\n",
       "      <td>3</td>\n",
       "      <td>2013-02-04</td>\n",
       "      <td>Pound-for-Pound</td>\n",
       "      <td>Jose Aldo</td>\n",
       "      <td>4</td>\n",
       "      <td>0</td>\n",
       "    </tr>\n",
       "    <tr>\n",
       "      <td>4</td>\n",
       "      <td>2013-02-04</td>\n",
       "      <td>Pound-for-Pound</td>\n",
       "      <td>Benson Henderson</td>\n",
       "      <td>5</td>\n",
       "      <td>0</td>\n",
       "    </tr>\n",
       "  </tbody>\n",
       "</table>\n",
       "</div>"
      ],
      "text/plain": [
       "         date      weightclass            fighter  rank  sequence\n",
       "0  2013-02-04  Pound-for-Pound     Anderson Silva     1         0\n",
       "1  2013-02-04  Pound-for-Pound          Jon Jones     2         0\n",
       "2  2013-02-04  Pound-for-Pound  Georges St-Pierre     3         0\n",
       "3  2013-02-04  Pound-for-Pound          Jose Aldo     4         0\n",
       "4  2013-02-04  Pound-for-Pound   Benson Henderson     5         0"
      ]
     },
     "execution_count": 17,
     "metadata": {},
     "output_type": "execute_result"
    }
   ],
   "source": [
    "df.head()"
   ]
  },
  {
   "cell_type": "code",
   "execution_count": 18,
   "metadata": {
    "scrolled": false
   },
   "outputs": [
    {
     "name": "stdout",
     "output_type": "stream",
     "text": [
      "Number of fighters: 44\n",
      "Number of matches: 3531\n"
     ]
    }
   ],
   "source": [
    "# Select lightweight class\n",
    "lightweight_df = df[df['weightclass']=='Lightweight']\n",
    "lightweight_df = lightweight_df.reset_index()\n",
    "lightweight_df = lightweight_df.drop(columns=['index'])\n",
    "print(\"Number of fighters: \" + str(len(lightweight_df['fighter'].unique())))\n",
    "print(\"Number of matches: \" + str(len(lightweight_df)))"
   ]
  },
  {
   "cell_type": "code",
   "execution_count": 19,
   "metadata": {},
   "outputs": [
    {
     "data": {
      "text/html": [
       "<div>\n",
       "<style scoped>\n",
       "    .dataframe tbody tr th:only-of-type {\n",
       "        vertical-align: middle;\n",
       "    }\n",
       "\n",
       "    .dataframe tbody tr th {\n",
       "        vertical-align: top;\n",
       "    }\n",
       "\n",
       "    .dataframe thead th {\n",
       "        text-align: right;\n",
       "    }\n",
       "</style>\n",
       "<table border=\"1\" class=\"dataframe\">\n",
       "  <thead>\n",
       "    <tr style=\"text-align: right;\">\n",
       "      <th></th>\n",
       "      <th>date</th>\n",
       "      <th>weightclass</th>\n",
       "      <th>fighter</th>\n",
       "      <th>rank</th>\n",
       "      <th>sequence</th>\n",
       "    </tr>\n",
       "  </thead>\n",
       "  <tbody>\n",
       "    <tr>\n",
       "      <td>0</td>\n",
       "      <td>2013-02-04</td>\n",
       "      <td>Lightweight</td>\n",
       "      <td>Benson Henderson</td>\n",
       "      <td>0</td>\n",
       "      <td>0</td>\n",
       "    </tr>\n",
       "    <tr>\n",
       "      <td>1</td>\n",
       "      <td>2013-02-04</td>\n",
       "      <td>Lightweight</td>\n",
       "      <td>Gilbert Melendez</td>\n",
       "      <td>1</td>\n",
       "      <td>0</td>\n",
       "    </tr>\n",
       "    <tr>\n",
       "      <td>2</td>\n",
       "      <td>2013-02-04</td>\n",
       "      <td>Lightweight</td>\n",
       "      <td>Anthony Pettis</td>\n",
       "      <td>2</td>\n",
       "      <td>0</td>\n",
       "    </tr>\n",
       "    <tr>\n",
       "      <td>3</td>\n",
       "      <td>2013-02-04</td>\n",
       "      <td>Lightweight</td>\n",
       "      <td>Gray Maynard</td>\n",
       "      <td>3</td>\n",
       "      <td>0</td>\n",
       "    </tr>\n",
       "    <tr>\n",
       "      <td>4</td>\n",
       "      <td>2013-02-04</td>\n",
       "      <td>Lightweight</td>\n",
       "      <td>Nate Diaz</td>\n",
       "      <td>4</td>\n",
       "      <td>0</td>\n",
       "    </tr>\n",
       "  </tbody>\n",
       "</table>\n",
       "</div>"
      ],
      "text/plain": [
       "         date  weightclass           fighter  rank  sequence\n",
       "0  2013-02-04  Lightweight  Benson Henderson     0         0\n",
       "1  2013-02-04  Lightweight  Gilbert Melendez     1         0\n",
       "2  2013-02-04  Lightweight    Anthony Pettis     2         0\n",
       "3  2013-02-04  Lightweight      Gray Maynard     3         0\n",
       "4  2013-02-04  Lightweight         Nate Diaz     4         0"
      ]
     },
     "execution_count": 19,
     "metadata": {},
     "output_type": "execute_result"
    }
   ],
   "source": [
    "lightweight_df.head()"
   ]
  },
  {
   "cell_type": "code",
   "execution_count": 20,
   "metadata": {},
   "outputs": [],
   "source": [
    "# Extract sequence of dates\n",
    "lightweight_df['sequence'] = lightweight_df['date'].map(date_values)\n",
    "sequence_df = lightweight_df[['sequence','date']]\n",
    "sequence_df = sequence_df.drop_duplicates(subset = 'date', keep='first')\n",
    "# sequence_df.to_csv(\"lightweight-sequence.csv\",index=False)"
   ]
  },
  {
   "cell_type": "code",
   "execution_count": 21,
   "metadata": {},
   "outputs": [
    {
     "data": {
      "text/html": [
       "<div>\n",
       "<style scoped>\n",
       "    .dataframe tbody tr th:only-of-type {\n",
       "        vertical-align: middle;\n",
       "    }\n",
       "\n",
       "    .dataframe tbody tr th {\n",
       "        vertical-align: top;\n",
       "    }\n",
       "\n",
       "    .dataframe thead th {\n",
       "        text-align: right;\n",
       "    }\n",
       "</style>\n",
       "<table border=\"1\" class=\"dataframe\">\n",
       "  <thead>\n",
       "    <tr style=\"text-align: right;\">\n",
       "      <th></th>\n",
       "      <th>date</th>\n",
       "      <th>weightclass</th>\n",
       "      <th>fighter</th>\n",
       "      <th>rank</th>\n",
       "      <th>sequence</th>\n",
       "      <th>reverse_rank</th>\n",
       "    </tr>\n",
       "  </thead>\n",
       "  <tbody>\n",
       "    <tr>\n",
       "      <td>0</td>\n",
       "      <td>2013-02-04</td>\n",
       "      <td>Lightweight</td>\n",
       "      <td>Benson Henderson</td>\n",
       "      <td>0</td>\n",
       "      <td>0</td>\n",
       "      <td>11</td>\n",
       "    </tr>\n",
       "    <tr>\n",
       "      <td>1</td>\n",
       "      <td>2013-02-04</td>\n",
       "      <td>Lightweight</td>\n",
       "      <td>Gilbert Melendez</td>\n",
       "      <td>1</td>\n",
       "      <td>0</td>\n",
       "      <td>10</td>\n",
       "    </tr>\n",
       "    <tr>\n",
       "      <td>2</td>\n",
       "      <td>2013-02-04</td>\n",
       "      <td>Lightweight</td>\n",
       "      <td>Anthony Pettis</td>\n",
       "      <td>2</td>\n",
       "      <td>0</td>\n",
       "      <td>9</td>\n",
       "    </tr>\n",
       "    <tr>\n",
       "      <td>3</td>\n",
       "      <td>2013-02-04</td>\n",
       "      <td>Lightweight</td>\n",
       "      <td>Gray Maynard</td>\n",
       "      <td>3</td>\n",
       "      <td>0</td>\n",
       "      <td>8</td>\n",
       "    </tr>\n",
       "    <tr>\n",
       "      <td>4</td>\n",
       "      <td>2013-02-04</td>\n",
       "      <td>Lightweight</td>\n",
       "      <td>Nate Diaz</td>\n",
       "      <td>4</td>\n",
       "      <td>0</td>\n",
       "      <td>7</td>\n",
       "    </tr>\n",
       "  </tbody>\n",
       "</table>\n",
       "</div>"
      ],
      "text/plain": [
       "         date  weightclass           fighter  rank  sequence  reverse_rank\n",
       "0  2013-02-04  Lightweight  Benson Henderson     0         0            11\n",
       "1  2013-02-04  Lightweight  Gilbert Melendez     1         0            10\n",
       "2  2013-02-04  Lightweight    Anthony Pettis     2         0             9\n",
       "3  2013-02-04  Lightweight      Gray Maynard     3         0             8\n",
       "4  2013-02-04  Lightweight         Nate Diaz     4         0             7"
      ]
     },
     "execution_count": 21,
     "metadata": {},
     "output_type": "execute_result"
    }
   ],
   "source": [
    "# Take top 10\n",
    "lightweight_df = lightweight_df[lightweight_df['rank']<=10]\n",
    "lightweight_df['reverse_rank'] = lightweight_df['rank'].apply(lambda x: 11-x if x > 0 else 11)\n",
    "lightweight_df.head()"
   ]
  },
  {
   "cell_type": "code",
   "execution_count": 22,
   "metadata": {},
   "outputs": [],
   "source": [
    "# grouped = (lightweight_df.groupby(['date'], as_index=True)\n",
    "#              .apply(lambda x: x[['fighter','reverse_rank']].to_dict('r'))\n",
    "# #              .apply(lambda x: x[['rank','fighter','reverse_rank','weightclass']].to_dict('r'))\n",
    "#              .reset_index()\n",
    "#              .rename(columns={0:'rankings'})\n",
    "#              .to_json(\"lightweight.json\",orient='records'))\n",
    "# print(json.dumps(json.loads(grouped), indent=2, sort_keys=True))\n",
    "# lightweight_df.to_json(\"lightweight.json\",orient='records')"
   ]
  },
  {
   "cell_type": "code",
   "execution_count": 23,
   "metadata": {},
   "outputs": [],
   "source": [
    "# Export (reverse) rankings over time in csv\n",
    "new_lightweight_df = lightweight_df.pivot_table('reverse_rank', 'fighter', 'sequence', fill_value=\"-1\")\n",
    "new_lightweight_df.to_csv(\"lightweight-rankings.csv\", index=True)"
   ]
  },
  {
   "cell_type": "code",
   "execution_count": 42,
   "metadata": {},
   "outputs": [],
   "source": [
    "# Export list of unique fighters\n",
    "df = pd.DataFrame(lightweight_df['fighter'].unique(),columns=[\"fighter\"])\n",
    "df.to_csv(\"lightweight-fighters.csv\",index=False)"
   ]
  },
  {
   "cell_type": "code",
   "execution_count": 43,
   "metadata": {},
   "outputs": [],
   "source": [
    "df['bar_color'] = \"#C5B0D5\""
   ]
  },
  {
   "cell_type": "code",
   "execution_count": 3,
   "metadata": {},
   "outputs": [],
   "source": [
    "# Read list of fighters and export to json\n",
    "df = pd.read_csv(\"UFC Fighters - lightweight-fighters.csv\") \n",
    "df[['fighter','bar_color']].to_json(\"lightweight-fighters.json\", orient='records')"
   ]
  },
  {
   "cell_type": "code",
   "execution_count": 26,
   "metadata": {},
   "outputs": [
    {
     "name": "stdout",
     "output_type": "stream",
     "text": [
      "Number of fighters: 52\n",
      "Number of matches: 3529\n"
     ]
    }
   ],
   "source": [
    "# Repeat for bantamweight class\n",
    "bantamweight_df = df[df['weightclass']=='Bantamweight']\n",
    "bantamweight_df = bantamweight_df.reset_index()\n",
    "bantamweight_df = bantamweight_df.drop(columns=['index'])\n",
    "print(\"Number of fighters: \" + str(len(bantamweight_df['fighter'].unique())))\n",
    "print(\"Number of matches: \" + str(len(bantamweight_df)))"
   ]
  },
  {
   "cell_type": "code",
   "execution_count": 45,
   "metadata": {},
   "outputs": [],
   "source": [
    "# Extract sequence of dates\n",
    "bantamweight_df['sequence'] = bantamweight_df['date'].map(date_values)\n",
    "sequence_df = bantamweight_df[['sequence','date']]\n",
    "sequence_df = sequence_df.drop_duplicates(subset = 'date', keep='first')\n",
    "# sequence_df.to_csv(\"bantamweight-sequence.csv\",index=False)"
   ]
  },
  {
   "cell_type": "code",
   "execution_count": 46,
   "metadata": {},
   "outputs": [
    {
     "data": {
      "text/html": [
       "<div>\n",
       "<style scoped>\n",
       "    .dataframe tbody tr th:only-of-type {\n",
       "        vertical-align: middle;\n",
       "    }\n",
       "\n",
       "    .dataframe tbody tr th {\n",
       "        vertical-align: top;\n",
       "    }\n",
       "\n",
       "    .dataframe thead th {\n",
       "        text-align: right;\n",
       "    }\n",
       "</style>\n",
       "<table border=\"1\" class=\"dataframe\">\n",
       "  <thead>\n",
       "    <tr style=\"text-align: right;\">\n",
       "      <th></th>\n",
       "      <th>date</th>\n",
       "      <th>weightclass</th>\n",
       "      <th>fighter</th>\n",
       "      <th>rank</th>\n",
       "      <th>sequence</th>\n",
       "      <th>reverse_rank</th>\n",
       "    </tr>\n",
       "  </thead>\n",
       "  <tbody>\n",
       "    <tr>\n",
       "      <td>0</td>\n",
       "      <td>2013-02-04</td>\n",
       "      <td>Bantamweight</td>\n",
       "      <td>Dominick Cruz</td>\n",
       "      <td>0</td>\n",
       "      <td>0</td>\n",
       "      <td>11</td>\n",
       "    </tr>\n",
       "    <tr>\n",
       "      <td>1</td>\n",
       "      <td>2013-02-04</td>\n",
       "      <td>Bantamweight</td>\n",
       "      <td>Renan Barao</td>\n",
       "      <td>1</td>\n",
       "      <td>0</td>\n",
       "      <td>10</td>\n",
       "    </tr>\n",
       "    <tr>\n",
       "      <td>2</td>\n",
       "      <td>2013-02-04</td>\n",
       "      <td>Bantamweight</td>\n",
       "      <td>Michael McDonald</td>\n",
       "      <td>2</td>\n",
       "      <td>0</td>\n",
       "      <td>9</td>\n",
       "    </tr>\n",
       "    <tr>\n",
       "      <td>3</td>\n",
       "      <td>2013-02-04</td>\n",
       "      <td>Bantamweight</td>\n",
       "      <td>Urijah Faber</td>\n",
       "      <td>3</td>\n",
       "      <td>0</td>\n",
       "      <td>8</td>\n",
       "    </tr>\n",
       "    <tr>\n",
       "      <td>4</td>\n",
       "      <td>2013-02-04</td>\n",
       "      <td>Bantamweight</td>\n",
       "      <td>Eddie Wineland</td>\n",
       "      <td>4</td>\n",
       "      <td>0</td>\n",
       "      <td>7</td>\n",
       "    </tr>\n",
       "  </tbody>\n",
       "</table>\n",
       "</div>"
      ],
      "text/plain": [
       "         date   weightclass           fighter  rank  sequence  reverse_rank\n",
       "0  2013-02-04  Bantamweight     Dominick Cruz     0         0            11\n",
       "1  2013-02-04  Bantamweight       Renan Barao     1         0            10\n",
       "2  2013-02-04  Bantamweight  Michael McDonald     2         0             9\n",
       "3  2013-02-04  Bantamweight      Urijah Faber     3         0             8\n",
       "4  2013-02-04  Bantamweight    Eddie Wineland     4         0             7"
      ]
     },
     "execution_count": 46,
     "metadata": {},
     "output_type": "execute_result"
    }
   ],
   "source": [
    "# Take top 10\n",
    "bantamweight_df = bantamweight_df[bantamweight_df['rank']<=10]\n",
    "bantamweight_df['reverse_rank'] = bantamweight_df['rank'].apply(lambda x: 11-x if x > 0 else 11)\n",
    "bantamweight_df.head()"
   ]
  },
  {
   "cell_type": "code",
   "execution_count": 47,
   "metadata": {},
   "outputs": [
    {
     "data": {
      "text/html": [
       "<div>\n",
       "<style scoped>\n",
       "    .dataframe tbody tr th:only-of-type {\n",
       "        vertical-align: middle;\n",
       "    }\n",
       "\n",
       "    .dataframe tbody tr th {\n",
       "        vertical-align: top;\n",
       "    }\n",
       "\n",
       "    .dataframe thead th {\n",
       "        text-align: right;\n",
       "    }\n",
       "</style>\n",
       "<table border=\"1\" class=\"dataframe\">\n",
       "  <thead>\n",
       "    <tr style=\"text-align: right;\">\n",
       "      <th></th>\n",
       "      <th>date</th>\n",
       "      <th>weightclass</th>\n",
       "      <th>fighter</th>\n",
       "      <th>rank</th>\n",
       "      <th>sequence</th>\n",
       "      <th>reverse_rank</th>\n",
       "    </tr>\n",
       "  </thead>\n",
       "  <tbody>\n",
       "  </tbody>\n",
       "</table>\n",
       "</div>"
      ],
      "text/plain": [
       "Empty DataFrame\n",
       "Columns: [date, weightclass, fighter, rank, sequence, reverse_rank]\n",
       "Index: []"
      ]
     },
     "execution_count": 47,
     "metadata": {},
     "output_type": "execute_result"
    }
   ],
   "source": [
    "bantamweight_df[bantamweight_df['fighter'].isnull()]"
   ]
  },
  {
   "cell_type": "code",
   "execution_count": 48,
   "metadata": {},
   "outputs": [],
   "source": [
    "# Replace NaN fighter with \"Vacant\"\n",
    "bantamweight_df['fighter'].fillna(\"Vacant\", inplace=True)"
   ]
  },
  {
   "cell_type": "code",
   "execution_count": 49,
   "metadata": {},
   "outputs": [],
   "source": [
    "# Export (reverse) rankings over time in csv\n",
    "new_bantamweight_df = bantamweight_df.pivot_table('reverse_rank', 'fighter', 'sequence', fill_value=\"-1\")\n",
    "new_bantamweight_df.to_csv(\"bantamweight-rankings.csv\", index=True)"
   ]
  },
  {
   "cell_type": "code",
   "execution_count": 50,
   "metadata": {},
   "outputs": [],
   "source": [
    "# Export list of unique fighters\n",
    "df = pd.DataFrame(bantamweight_df['fighter'].unique(),columns=[\"fighter\"])\n",
    "df.to_csv(\"bantamweight-fighters.csv\",index=False)"
   ]
  },
  {
   "cell_type": "code",
   "execution_count": 51,
   "metadata": {},
   "outputs": [],
   "source": [
    "df['bar_color'] = \"#98DF8A\""
   ]
  },
  {
   "cell_type": "code",
   "execution_count": 4,
   "metadata": {},
   "outputs": [],
   "source": [
    "# Read list of fighters and export to json\n",
    "df = pd.read_csv(\"UFC Fighters - bantamweight-fighters.csv\") \n",
    "df[['fighter','bar_color']].to_json(\"bantamweight-fighters.json\", orient='records')"
   ]
  },
  {
   "cell_type": "code",
   "execution_count": null,
   "metadata": {},
   "outputs": [],
   "source": []
  },
  {
   "cell_type": "code",
   "execution_count": null,
   "metadata": {
    "scrolled": true
   },
   "outputs": [],
   "source": []
  },
  {
   "cell_type": "code",
   "execution_count": null,
   "metadata": {},
   "outputs": [],
   "source": []
  },
  {
   "cell_type": "code",
   "execution_count": null,
   "metadata": {},
   "outputs": [],
   "source": [
    "def name_to_color(names, r_min=0, r_max=255, g_min=0, g_max=255, b_min=0, b_max=255):\n",
    "    mapping_colors = dict()\n",
    "    \n",
    "    for name in names.unique():\n",
    "        red = random.randint(r_min, r_max)\n",
    "        green = random.randint(g_min, g_max)\n",
    "        blue = random.randint(b_min, b_max)\n",
    "        rgb_string = 'rgb({}, {}, {})'.format(red, green, blue)\n",
    "    \n",
    "        mapping_colors[name] = rgb_string\n",
    "    \n",
    "    return mapping_colors"
   ]
  },
  {
   "cell_type": "code",
   "execution_count": null,
   "metadata": {},
   "outputs": [],
   "source": [
    "# mapping_colors = name_to_color(lightweight_df['fighter'], 125, 255, 0, 185, 0, 185)\n",
    "# print(mapping_colors)\n",
    "# lightweight_df['bar_color'] = lightweight_df['fighter'].map(mapping_colors)"
   ]
  },
  {
   "cell_type": "code",
   "execution_count": null,
   "metadata": {},
   "outputs": [],
   "source": [
    "def frames_animation(df, title):\n",
    "    list_of_frames = []\n",
    "    initial_date = df['sequence'].min()\n",
    "    final_date = df['sequence'].max()\n",
    "    range_min = 0\n",
    "    range_max = df['reverse_rank'].max() + 1\n",
    "\n",
    "    for date in range(initial_date, final_date):\n",
    "            fdata = df[df['sequence'] == date]\n",
    "            date_value = fdata['date'].unique().min()      \n",
    "            list_of_frames.append(go.Frame(data=[go.Bar(x=fdata['fighter'], y=fdata['reverse_rank'],\n",
    "                                                        text=fdata['fighter'],\n",
    "                                                        marker_color=fdata['bar_color'], \n",
    "                                                        hoverinfo='none',\n",
    "                                                        textposition='outside', \n",
    "                                                        texttemplate='%{text}',\n",
    "                                                        cliponaxis=False)],\n",
    "                                           layout=go.Layout(font={'size': 14},\n",
    "                                                            plot_bgcolor = '#FFFFFF',\n",
    "                                                            xaxis={'showline': False, 'visible': False,\n",
    "                                                                  'autorange': 'reversed' },\n",
    "                                                            yaxis={'showline': False, 'visible': False, \n",
    "                                                                   'range': (range_min, range_max)},\n",
    "                                                            bargap=0.15,\n",
    "                                                            title=title + \" \" + str(date_value)\n",
    "                                                           )))\n",
    "    return list_of_frames"
   ]
  },
  {
   "cell_type": "code",
   "execution_count": null,
   "metadata": {},
   "outputs": [],
   "source": [
    "def bar_race_plot (df, title, list_of_frames):  \n",
    "\n",
    "    initial_date = df['sequence'].min()\n",
    "    initial_date_value = df['date'].min()\n",
    "    initial_names = df[df['sequence'] == initial_date]['fighter']\n",
    "    initial_rank = df[df['sequence'] == initial_date]['rank']\n",
    "    initial_reverse_rank = df[df['sequence'] == initial_date]['reverse_rank']\n",
    "    initial_color = df[df['sequence'] == initial_date]['bar_color']\n",
    "    range_max = df['reverse_rank'].max() + 1\n",
    "    \n",
    "    fig = go.Figure(\n",
    "        data=[go.Bar(x=initial_names,y=initial_reverse_rank,\n",
    "                     text=initial_names,\n",
    "                       marker_color=initial_color, \n",
    "                       hoverinfo='none',\n",
    "                       textposition='outside', \n",
    "                         texttemplate='%{x}',\n",
    "                       cliponaxis=False)],\n",
    "        layout=go.Layout(font={'size': 14}, plot_bgcolor = '#FFFFFF',\n",
    "                         xaxis={'showline': False, 'visible': False, 'autorange': 'reversed' },\n",
    "                         yaxis={'showline': False, 'visible': False, 'range': (0, range_max)},\n",
    "                         bargap=0.15, title=title + \" \" +  str(initial_date_value),\n",
    "                         updatemenus=[dict(type=\"buttons\",\n",
    "                                           buttons=[dict(label=\"Play\",\n",
    "                                                         method=\"animate\",\n",
    "                                                         args=[None,{\"frame\": {\"duration\": 500, \"redraw\": True}, \"fromcurrent\": True}]),\n",
    "                                                    dict(label=\"Pause\",\n",
    "                                                         method=\"animate\",\n",
    "                                                         args=[[None],{\"frame\": {\"duration\": 0, \"redraw\": False}, \"mode\": \"immediate\",\"transition\": {\"duration\": 0}}])])]),\n",
    "        frames=list(list_of_frames))\n",
    "    fig.update_layout(uniformtext_minsize=10, uniformtext_mode='hide')\n",
    "    return fig"
   ]
  },
  {
   "cell_type": "code",
   "execution_count": null,
   "metadata": {
    "scrolled": false
   },
   "outputs": [],
   "source": [
    "# title = 'Rankings'\n",
    "# list_of_frames = frames_animation(lightweight_df, title)\n",
    "# fig = bar_race_plot(lightweight_df, title, list_of_frames)\n",
    "# fig.show()"
   ]
  },
  {
   "cell_type": "code",
   "execution_count": null,
   "metadata": {},
   "outputs": [],
   "source": []
  }
 ],
 "metadata": {
  "kernelspec": {
   "display_name": "Python 3",
   "language": "python",
   "name": "python3"
  },
  "language_info": {
   "codemirror_mode": {
    "name": "ipython",
    "version": 3
   },
   "file_extension": ".py",
   "mimetype": "text/x-python",
   "name": "python",
   "nbconvert_exporter": "python",
   "pygments_lexer": "ipython3",
   "version": "3.7.4"
  }
 },
 "nbformat": 4,
 "nbformat_minor": 2
}
